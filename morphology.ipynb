{
  "nbformat": 4,
  "nbformat_minor": 0,
  "metadata": {
    "colab": {
      "provenance": []
    },
    "kernelspec": {
      "name": "python3",
      "display_name": "Python 3"
    },
    "language_info": {
      "name": "python"
    },
    "gpuClass": "standard"
  },
  "cells": [
    {
      "cell_type": "code",
      "source": [
        "import cv2\n",
        "import numpy as np\n",
        "import matplotlib.pyplot as plt"
      ],
      "metadata": {
        "id": "CiR8aIVvvG5G"
      },
      "execution_count": null,
      "outputs": []
    },
    {
      "cell_type": "code",
      "source": [
        "A1=[[0,0,0,0,0,0,0,0],\n",
        "    [0,0,0,1,1,1,1,0],\n",
        "    [0,0,0,1,1,1,1,0],\n",
        "    [0,1,1,1,1,1,1,0],\n",
        "    [0,1,1,1,1,1,1,0],\n",
        "    [0,1,1,1,1,0,0,0],\n",
        "    [0,1,1,1,1,0,0,0],\n",
        "    [0,0,0,0,0,0,0,0]]\n",
        "\n",
        "A2=[[0,0,0,0,0,0,0,0],\n",
        "    [0,1,1,1,1,1,1,0],\n",
        "    [0,1,1,1,1,1,1,0],\n",
        "    [0,1,1,0,0,1,1,0],\n",
        "    [0,1,1,0,0,1,1,0],\n",
        "    [0,1,1,1,1,1,1,0],\n",
        "    [0,1,1,1,1,1,1,0],\n",
        "    [0,0,0,0,0,0,0,0]]\n",
        "\n",
        "A3=[[0,0,0,0,0,0,0,0],\n",
        "    [0,0,0,0,0,1,1,0],\n",
        "    [0,1,1,1,0,1,1,0],\n",
        "    [0,1,1,1,0,1,1,0],\n",
        "    [0,1,1,1,0,1,1,0],\n",
        "    [0,1,1,1,0,0,0,0],\n",
        "    [0,1,1,1,0,0,0,0],\n",
        "    [0,0,0,0,0,0,0,0]]\n",
        "\n",
        "B1=[[0,1,0],\n",
        "    [1,1,1],\n",
        "    [0,1,0]]\n",
        "\n",
        "B2=[[1,1,1],\n",
        "    [1,1,1],\n",
        "    [1,1,1]]\n",
        "A1=np.array(A1).astype('uint8')\n",
        "A2=np.array(A2).astype('uint8')\n",
        "A3=np.array(A3).astype('uint8')\n",
        "B1=np.array(B1).astype('uint8')\n",
        "B2=np.array(B2).astype('uint8')"
      ],
      "metadata": {
        "id": "pfdn3cFnsv-l"
      },
      "execution_count": null,
      "outputs": []
    },
    {
      "cell_type": "code",
      "source": [
        "A1erosionB1 = cv2.erode(A1, B1)\n",
        "A1erosionB2 = cv2.erode(A1, B2)\n",
        "A2erosionB1 = cv2.erode(A2, B1)\n",
        "A2erosionB2 = cv2.erode(A2, B2)\n",
        "A3erosionB1 = cv2.erode(A3, B1)\n",
        "A3erosionB2 = cv2.erode(A3, B2)\n",
        "\n",
        "# print(A1erosionB1)\n",
        "# print(A1erosionB2)\n",
        "# print(A2erosionB1)\n",
        "# print(A2erosionB2)\n",
        "# print(A3erosionB1)\n",
        "# print(A3erosionB2)"
      ],
      "metadata": {
        "id": "a3r6rg9oucft"
      },
      "execution_count": null,
      "outputs": []
    },
    {
      "cell_type": "code",
      "source": [
        "A1dilateB1 = cv2.dilate(A1, B1)\n",
        "A1dilateB2 = cv2.dilate(A1, B2)\n",
        "A2dilateB1 = cv2.dilate(A2, B1)\n",
        "A2dilateB2 = cv2.dilate(A2, B2)\n",
        "A3dilateB1 = cv2.dilate(A3, B1)\n",
        "A3dilateB2 = cv2.dilate(A3, B2)\n",
        "\n",
        "# print(A1dilateB1)\n",
        "# print(A1dilateB2)\n",
        "# print(A2dilateB1)\n",
        "# print(A2dilateB2)\n",
        "# print(A3dilateB1)\n",
        "# print(A3dilateB2)"
      ],
      "metadata": {
        "id": "iN8nk4lGunNV"
      },
      "execution_count": null,
      "outputs": []
    },
    {
      "cell_type": "code",
      "source": [
        "A1openingB1 = cv2.morphologyEx(A1, cv2.MORPH_OPEN, B1)\n",
        "A1openingB2 = cv2.morphologyEx(A1, cv2.MORPH_OPEN, B2)\n",
        "A2openingB1 = cv2.morphologyEx(A2, cv2.MORPH_OPEN, B1)\n",
        "A2openingB2 = cv2.morphologyEx(A2, cv2.MORPH_OPEN, B2)\n",
        "A3openingB1 = cv2.morphologyEx(A3, cv2.MORPH_OPEN, B1)\n",
        "A3openingB2 = cv2.morphologyEx(A3, cv2.MORPH_OPEN, B2)\n",
        "\n",
        "# print(A1openingB1)\n",
        "# print(A1openingB2)\n",
        "# print(A2openingB1)\n",
        "# print(A2openingB2)\n",
        "# print(A3openingB1)\n",
        "# print(A3openingB2)"
      ],
      "metadata": {
        "id": "QkMpSro1wXht"
      },
      "execution_count": null,
      "outputs": []
    },
    {
      "cell_type": "code",
      "source": [
        "A1closingB1 = cv2.morphologyEx(A1, cv2.MORPH_CLOSE, B1)\n",
        "A1closingB2 = cv2.morphologyEx(A1, cv2.MORPH_CLOSE, B2)\n",
        "A2closingB1 = cv2.morphologyEx(A2, cv2.MORPH_CLOSE, B1)\n",
        "A2closingB2 = cv2.morphologyEx(A2, cv2.MORPH_CLOSE, B2)\n",
        "A3closingB1 = cv2.morphologyEx(A3, cv2.MORPH_CLOSE, B1)\n",
        "A3closingB2 = cv2.morphologyEx(A3, cv2.MORPH_CLOSE, B2)\n",
        "\n",
        "# print(A1closingB1)\n",
        "# print(A1closingB2)\n",
        "# print(A2closingB1)\n",
        "# print(A2closingB2)\n",
        "# print(A3closingB1)\n",
        "# print(A3closingB2)"
      ],
      "metadata": {
        "id": "gEM2W6Y-whNr"
      },
      "execution_count": null,
      "outputs": []
    },
    {
      "cell_type": "code",
      "source": [
        "import cv2\n",
        "import numpy as np\n",
        "import matplotlib.pyplot as plt\n",
        "\n",
        "# get input image\n",
        "img = cv2.imread('image.jpg')\n",
        "# set kernel\n",
        "kernel = np.ones((5,5),np.uint8)\n",
        "\n",
        "# gradient=dilate-erosion\n",
        "td= cv2.morphologyEx(img, cv2.MORPH_GRADIENT, kernel)\n",
        "\n",
        "# show the result\n",
        "res = np.hstack((img ,td))\n",
        "plt.imshow(res)\n",
        "plt.show()"
      ],
      "metadata": {
        "id": "9A8HkPPlxGVp",
        "colab": {
          "base_uri": "https://localhost:8080/",
          "height": 256
        },
        "outputId": "d108d235-1544-46b2-f6c1-f2e8a4eccf00"
      },
      "execution_count": null,
      "outputs": [
        {
          "output_type": "display_data",
          "data": {
            "text/plain": [
              "<Figure size 432x288 with 1 Axes>"
            ],
            "image/png": "[encoded data removed]"
          },
          "metadata": {
            "needs_background": "light"
          }
        }
      ]
    },
    {
      "cell_type": "code",
      "source": [],
      "metadata": {
        "id": "vqN9hydwf6dd"
      },
      "execution_count": null,
      "outputs": []
    }
  ]
}